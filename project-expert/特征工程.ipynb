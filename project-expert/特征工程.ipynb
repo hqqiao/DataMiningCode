{
 "cells": [
  {
   "cell_type": "code",
   "execution_count": 1,
   "metadata": {},
   "outputs": [],
   "source": [
    "import warnings\n",
    "warnings.filterwarnings('ignore')\n",
    "import pandas as pd\n",
    "import numpy as np\n",
    "import pickle\n",
    "import gc\n",
    "import os\n",
    "import time\n",
    "import multiprocessing as mp\n",
    "import logging\n",
    "from sklearn.preprocessing import LabelEncoder\n",
    "from tqdm import tqdm, tqdm_notebook, _tqdm_notebook, tqdm_pandas\n",
    "tic = time.time()\n",
    "SAVE_PATH = '/home/huangqiao/DataMiningCode/project-expert/data/feats'\n",
    "if not os.path.exists(SAVE_PATH):\n",
    "    print('create dir: %s' % SAVE_PATH)\n",
    "    os.mkdir(SAVE_PATH)"
   ]
  },
  {
   "cell_type": "code",
   "execution_count": 2,
   "metadata": {},
   "outputs": [],
   "source": [
    "#####################################################################################################################################\n",
    "######################################################user###########################################################################"
   ]
  },
  {
   "cell_type": "code",
   "execution_count": 99,
   "metadata": {},
   "outputs": [],
   "source": [
    "with open('pkl/user.pkl','rb') as file:\n",
    "    user=pickle.load(file)"
   ]
  },
  {
   "cell_type": "code",
   "execution_count": 100,
   "metadata": {},
   "outputs": [],
   "source": [
    "logging.info(\"user %s\", user.shape)"
   ]
  },
  {
   "cell_type": "code",
   "execution_count": 101,
   "metadata": {},
   "outputs": [],
   "source": [
    "def parse_str(d):\n",
    "    return np.array(list(map(float, d.split())))"
   ]
  },
  {
   "cell_type": "code",
   "execution_count": 102,
   "metadata": {},
   "outputs": [
    {
     "data": {
      "text/plain": [
       "(100000, 2)"
      ]
     },
     "execution_count": 102,
     "metadata": {},
     "output_type": "execute_result"
    }
   ],
   "source": [
    "with open('pkl/topic.pkl', 'rb') as file:\n",
    "    topicmap = pickle.load(file)\n",
    "topicmap.shape"
   ]
  },
  {
   "cell_type": "code",
   "execution_count": 103,
   "metadata": {},
   "outputs": [
    {
     "data": {
      "text/plain": [
       "dict_keys"
      ]
     },
     "execution_count": 103,
     "metadata": {},
     "output_type": "execute_result"
    }
   ],
   "source": [
    "topic_vector_dict = dict(zip(np.array(topicmap['id']), np.array(topicmap['embed'])))\n",
    "\n",
    "type(topic_vector_dict.keys())"
   ]
  },
  {
   "cell_type": "code",
   "execution_count": 104,
   "metadata": {},
   "outputs": [],
   "source": [
    "#求话题向量平均值\n",
    "def topic2v(x):\n",
    "    try:\n",
    "        tmp = topic_vector_dict[x[0]]\n",
    "    except:\n",
    "        tmp = np.zeros(64)\n",
    "    for i in x[1:]:\n",
    "        tmp = tmp + topic_vector_dict[i]\n",
    "    if len(tmp) == 0:\n",
    "        return np.zeros(64)\n",
    "    return (tmp / len(x))"
   ]
  },
  {
   "cell_type": "code",
   "execution_count": 105,
   "metadata": {},
   "outputs": [
    {
     "data": {
      "text/html": [
       "<div>\n",
       "<style scoped>\n",
       "    .dataframe tbody tr th:only-of-type {\n",
       "        vertical-align: middle;\n",
       "    }\n",
       "\n",
       "    .dataframe tbody tr th {\n",
       "        vertical-align: top;\n",
       "    }\n",
       "\n",
       "    .dataframe thead th {\n",
       "        text-align: right;\n",
       "    }\n",
       "</style>\n",
       "<table border=\"1\" class=\"dataframe\">\n",
       "  <thead>\n",
       "    <tr style=\"text-align: right;\">\n",
       "      <th></th>\n",
       "      <th>uid</th>\n",
       "      <th>gender</th>\n",
       "      <th>freq</th>\n",
       "      <th>uf_b1</th>\n",
       "      <th>uf_b2</th>\n",
       "      <th>uf_b3</th>\n",
       "      <th>uf_b4</th>\n",
       "      <th>uf_b5</th>\n",
       "      <th>uf_c1</th>\n",
       "      <th>uf_c2</th>\n",
       "      <th>uf_c3</th>\n",
       "      <th>uf_c4</th>\n",
       "      <th>uf_c5</th>\n",
       "      <th>score</th>\n",
       "      <th>follow_topic</th>\n",
       "      <th>inter_topic</th>\n",
       "    </tr>\n",
       "  </thead>\n",
       "  <tbody>\n",
       "    <tr>\n",
       "      <th>0</th>\n",
       "      <td>M1934753188</td>\n",
       "      <td>1</td>\n",
       "      <td>1</td>\n",
       "      <td>0</td>\n",
       "      <td>1</td>\n",
       "      <td>0</td>\n",
       "      <td>1</td>\n",
       "      <td>0</td>\n",
       "      <td>1190</td>\n",
       "      <td>130</td>\n",
       "      <td>396</td>\n",
       "      <td>1438</td>\n",
       "      <td>1</td>\n",
       "      <td>764</td>\n",
       "      <td>[540]</td>\n",
       "      <td>{21107: 1.7915097, 405: 1.6123838, 4436: 1.518...</td>\n",
       "    </tr>\n",
       "    <tr>\n",
       "      <th>1</th>\n",
       "      <td>M595924114</td>\n",
       "      <td>1</td>\n",
       "      <td>0</td>\n",
       "      <td>0</td>\n",
       "      <td>0</td>\n",
       "      <td>0</td>\n",
       "      <td>1</td>\n",
       "      <td>1</td>\n",
       "      <td>486</td>\n",
       "      <td>170</td>\n",
       "      <td>0</td>\n",
       "      <td>1311</td>\n",
       "      <td>1</td>\n",
       "      <td>671</td>\n",
       "      <td>[44126, 15940, 839, 8978, 2934, 1113, 3914, 12...</td>\n",
       "      <td>{18016: 2.0650618, 2384: 1.2503042, 1142: 1.13...</td>\n",
       "    </tr>\n",
       "    <tr>\n",
       "      <th>2</th>\n",
       "      <td>M1473482940</td>\n",
       "      <td>0</td>\n",
       "      <td>4</td>\n",
       "      <td>0</td>\n",
       "      <td>1</td>\n",
       "      <td>0</td>\n",
       "      <td>1</td>\n",
       "      <td>0</td>\n",
       "      <td>294</td>\n",
       "      <td>190</td>\n",
       "      <td>73</td>\n",
       "      <td>758</td>\n",
       "      <td>1</td>\n",
       "      <td>454</td>\n",
       "      <td>[30874, 2113, 8656, 21, 523, 8, 116, 5727, 68,...</td>\n",
       "      <td>{46: 1.330939, 2159: 1.1296458, 379: 1.1241927...</td>\n",
       "    </tr>\n",
       "    <tr>\n",
       "      <th>3</th>\n",
       "      <td>M578477092</td>\n",
       "      <td>1</td>\n",
       "      <td>0</td>\n",
       "      <td>1</td>\n",
       "      <td>1</td>\n",
       "      <td>0</td>\n",
       "      <td>1</td>\n",
       "      <td>0</td>\n",
       "      <td>2282</td>\n",
       "      <td>232</td>\n",
       "      <td>237</td>\n",
       "      <td>864</td>\n",
       "      <td>1</td>\n",
       "      <td>588</td>\n",
       "      <td>[946, 7323, 297, 2660, 36067, 53107, 2654, 507...</td>\n",
       "      <td>{15918: 1.9479566, 8106: 1.8578106, 4787: 1.58...</td>\n",
       "    </tr>\n",
       "    <tr>\n",
       "      <th>4</th>\n",
       "      <td>M1088794709</td>\n",
       "      <td>1</td>\n",
       "      <td>4</td>\n",
       "      <td>0</td>\n",
       "      <td>1</td>\n",
       "      <td>0</td>\n",
       "      <td>0</td>\n",
       "      <td>0</td>\n",
       "      <td>2113</td>\n",
       "      <td>190</td>\n",
       "      <td>32</td>\n",
       "      <td>758</td>\n",
       "      <td>1</td>\n",
       "      <td>361</td>\n",
       "      <td>[582, 558, 28776, 5186, 9081, 2419, 2693, 2299...</td>\n",
       "      <td>{65: 1.5992582, 867: 1.3179373, 93: 1.2095009,...</td>\n",
       "    </tr>\n",
       "  </tbody>\n",
       "</table>\n",
       "</div>"
      ],
      "text/plain": [
       "           uid  gender  freq  uf_b1  uf_b2  uf_b3  uf_b4  uf_b5  uf_c1  uf_c2  \\\n",
       "0  M1934753188       1     1      0      1      0      1      0   1190    130   \n",
       "1   M595924114       1     0      0      0      0      1      1    486    170   \n",
       "2  M1473482940       0     4      0      1      0      1      0    294    190   \n",
       "3   M578477092       1     0      1      1      0      1      0   2282    232   \n",
       "4  M1088794709       1     4      0      1      0      0      0   2113    190   \n",
       "\n",
       "   uf_c3  uf_c4  uf_c5  score  \\\n",
       "0    396   1438      1    764   \n",
       "1      0   1311      1    671   \n",
       "2     73    758      1    454   \n",
       "3    237    864      1    588   \n",
       "4     32    758      1    361   \n",
       "\n",
       "                                        follow_topic  \\\n",
       "0                                              [540]   \n",
       "1  [44126, 15940, 839, 8978, 2934, 1113, 3914, 12...   \n",
       "2  [30874, 2113, 8656, 21, 523, 8, 116, 5727, 68,...   \n",
       "3  [946, 7323, 297, 2660, 36067, 53107, 2654, 507...   \n",
       "4  [582, 558, 28776, 5186, 9081, 2419, 2693, 2299...   \n",
       "\n",
       "                                         inter_topic  \n",
       "0  {21107: 1.7915097, 405: 1.6123838, 4436: 1.518...  \n",
       "1  {18016: 2.0650618, 2384: 1.2503042, 1142: 1.13...  \n",
       "2  {46: 1.330939, 2159: 1.1296458, 379: 1.1241927...  \n",
       "3  {15918: 1.9479566, 8106: 1.8578106, 4787: 1.58...  \n",
       "4  {65: 1.5992582, 867: 1.3179373, 93: 1.2095009,...  "
      ]
     },
     "execution_count": 105,
     "metadata": {},
     "output_type": "execute_result"
    }
   ],
   "source": [
    "user.head()"
   ]
  },
  {
   "cell_type": "code",
   "execution_count": 106,
   "metadata": {},
   "outputs": [
    {
     "name": "stderr",
     "output_type": "stream",
     "text": [
      "topic2v...: 100%|██████████| 1931654/1931654 [00:43<00:00, 44154.63it/s]\n"
     ]
    },
    {
     "name": "stdout",
     "output_type": "stream",
     "text": [
      "finished!\n"
     ]
    }
   ],
   "source": [
    "tqdm.pandas(desc=\"topic2v...\")\n",
    "user['follow_topic_vector']=user['follow_topic'].progress_apply(lambda x:topic2v(x))\n",
    "print('finished!')"
   ]
  },
  {
   "cell_type": "code",
   "execution_count": 107,
   "metadata": {},
   "outputs": [
    {
     "name": "stderr",
     "output_type": "stream",
     "text": [
      "topic_interest2v...: 100%|██████████| 1931654/1931654 [00:38<00:00, 49557.91it/s]"
     ]
    },
    {
     "name": "stdout",
     "output_type": "stream",
     "text": [
      "finished!\n"
     ]
    },
    {
     "name": "stderr",
     "output_type": "stream",
     "text": [
      "\n"
     ]
    }
   ],
   "source": [
    "def topic_interest2v(x):\n",
    "    if len(x)==0:\n",
    "        return np.zeros(64)\n",
    "    else:\n",
    "        tmp=np.zeros(64)\n",
    "        for i in x:\n",
    "            tmp = tmp + topic_vector_dict[i]*x[i]\n",
    "        return (tmp / len(x))\n",
    "\n",
    "tqdm.pandas(desc=\"topic_interest2v...\")\n",
    "user['inter_topic_vector']=user['inter_topic'].progress_apply(lambda x:topic_interest2v(x))\n",
    "print('finished!')"
   ]
  },
  {
   "cell_type": "code",
   "execution_count": 108,
   "metadata": {},
   "outputs": [
    {
     "data": {
      "text/html": [
       "<div>\n",
       "<style scoped>\n",
       "    .dataframe tbody tr th:only-of-type {\n",
       "        vertical-align: middle;\n",
       "    }\n",
       "\n",
       "    .dataframe tbody tr th {\n",
       "        vertical-align: top;\n",
       "    }\n",
       "\n",
       "    .dataframe thead th {\n",
       "        text-align: right;\n",
       "    }\n",
       "</style>\n",
       "<table border=\"1\" class=\"dataframe\">\n",
       "  <thead>\n",
       "    <tr style=\"text-align: right;\">\n",
       "      <th></th>\n",
       "      <th>uid</th>\n",
       "      <th>gender</th>\n",
       "      <th>freq</th>\n",
       "      <th>uf_b1</th>\n",
       "      <th>uf_b2</th>\n",
       "      <th>uf_b3</th>\n",
       "      <th>uf_b4</th>\n",
       "      <th>uf_b5</th>\n",
       "      <th>uf_c1</th>\n",
       "      <th>uf_c2</th>\n",
       "      <th>uf_c3</th>\n",
       "      <th>uf_c4</th>\n",
       "      <th>uf_c5</th>\n",
       "      <th>score</th>\n",
       "      <th>follow_topic</th>\n",
       "      <th>inter_topic</th>\n",
       "      <th>follow_topic_vector</th>\n",
       "      <th>inter_topic_vector</th>\n",
       "    </tr>\n",
       "  </thead>\n",
       "  <tbody>\n",
       "    <tr>\n",
       "      <th>0</th>\n",
       "      <td>M1934753188</td>\n",
       "      <td>1</td>\n",
       "      <td>1</td>\n",
       "      <td>0</td>\n",
       "      <td>1</td>\n",
       "      <td>0</td>\n",
       "      <td>1</td>\n",
       "      <td>0</td>\n",
       "      <td>1190</td>\n",
       "      <td>130</td>\n",
       "      <td>396</td>\n",
       "      <td>1438</td>\n",
       "      <td>1</td>\n",
       "      <td>764</td>\n",
       "      <td>[540]</td>\n",
       "      <td>{21107: 1.7915097, 405: 1.6123838, 4436: 1.518...</td>\n",
       "      <td>[6.125305, -1.4180568, -1.3143845, -2.9268239,...</td>\n",
       "      <td>[0.5255145018431924, 2.8507211193389996, 0.571...</td>\n",
       "    </tr>\n",
       "    <tr>\n",
       "      <th>1</th>\n",
       "      <td>M595924114</td>\n",
       "      <td>1</td>\n",
       "      <td>0</td>\n",
       "      <td>0</td>\n",
       "      <td>0</td>\n",
       "      <td>0</td>\n",
       "      <td>1</td>\n",
       "      <td>1</td>\n",
       "      <td>486</td>\n",
       "      <td>170</td>\n",
       "      <td>0</td>\n",
       "      <td>1311</td>\n",
       "      <td>1</td>\n",
       "      <td>671</td>\n",
       "      <td>[44126, 15940, 839, 8978, 2934, 1113, 3914, 12...</td>\n",
       "      <td>{18016: 2.0650618, 2384: 1.2503042, 1142: 1.13...</td>\n",
       "      <td>[0.30575216599999994, -0.9980522930666669, 0.0...</td>\n",
       "      <td>[-1.9947685124736019, 1.3387408371544118, -0.3...</td>\n",
       "    </tr>\n",
       "    <tr>\n",
       "      <th>2</th>\n",
       "      <td>M1473482940</td>\n",
       "      <td>0</td>\n",
       "      <td>4</td>\n",
       "      <td>0</td>\n",
       "      <td>1</td>\n",
       "      <td>0</td>\n",
       "      <td>1</td>\n",
       "      <td>0</td>\n",
       "      <td>294</td>\n",
       "      <td>190</td>\n",
       "      <td>73</td>\n",
       "      <td>758</td>\n",
       "      <td>1</td>\n",
       "      <td>454</td>\n",
       "      <td>[30874, 2113, 8656, 21, 523, 8, 116, 5727, 68,...</td>\n",
       "      <td>{46: 1.330939, 2159: 1.1296458, 379: 1.1241927...</td>\n",
       "      <td>[0.1508028030833333, 0.7434654864583335, -0.25...</td>\n",
       "      <td>[-0.25824397617484, 0.6167275103940157, -0.075...</td>\n",
       "    </tr>\n",
       "    <tr>\n",
       "      <th>3</th>\n",
       "      <td>M578477092</td>\n",
       "      <td>1</td>\n",
       "      <td>0</td>\n",
       "      <td>1</td>\n",
       "      <td>1</td>\n",
       "      <td>0</td>\n",
       "      <td>1</td>\n",
       "      <td>0</td>\n",
       "      <td>2282</td>\n",
       "      <td>232</td>\n",
       "      <td>237</td>\n",
       "      <td>864</td>\n",
       "      <td>1</td>\n",
       "      <td>588</td>\n",
       "      <td>[946, 7323, 297, 2660, 36067, 53107, 2654, 507...</td>\n",
       "      <td>{15918: 1.9479566, 8106: 1.8578106, 4787: 1.58...</td>\n",
       "      <td>[1.4605925141999998, -0.33966116570100013, 0.3...</td>\n",
       "      <td>[1.4908855224214492, 1.4438666038597823, 1.179...</td>\n",
       "    </tr>\n",
       "    <tr>\n",
       "      <th>4</th>\n",
       "      <td>M1088794709</td>\n",
       "      <td>1</td>\n",
       "      <td>4</td>\n",
       "      <td>0</td>\n",
       "      <td>1</td>\n",
       "      <td>0</td>\n",
       "      <td>0</td>\n",
       "      <td>0</td>\n",
       "      <td>2113</td>\n",
       "      <td>190</td>\n",
       "      <td>32</td>\n",
       "      <td>758</td>\n",
       "      <td>1</td>\n",
       "      <td>361</td>\n",
       "      <td>[582, 558, 28776, 5186, 9081, 2419, 2693, 2299...</td>\n",
       "      <td>{65: 1.5992582, 867: 1.3179373, 93: 1.2095009,...</td>\n",
       "      <td>[0.9643650885294115, 0.31516375361764704, 0.82...</td>\n",
       "      <td>[1.5879302100003165, -1.1453530874701519, -0.7...</td>\n",
       "    </tr>\n",
       "  </tbody>\n",
       "</table>\n",
       "</div>"
      ],
      "text/plain": [
       "           uid  gender  freq  uf_b1  uf_b2  uf_b3  uf_b4  uf_b5  uf_c1  uf_c2  \\\n",
       "0  M1934753188       1     1      0      1      0      1      0   1190    130   \n",
       "1   M595924114       1     0      0      0      0      1      1    486    170   \n",
       "2  M1473482940       0     4      0      1      0      1      0    294    190   \n",
       "3   M578477092       1     0      1      1      0      1      0   2282    232   \n",
       "4  M1088794709       1     4      0      1      0      0      0   2113    190   \n",
       "\n",
       "   uf_c3  uf_c4  uf_c5  score  \\\n",
       "0    396   1438      1    764   \n",
       "1      0   1311      1    671   \n",
       "2     73    758      1    454   \n",
       "3    237    864      1    588   \n",
       "4     32    758      1    361   \n",
       "\n",
       "                                        follow_topic  \\\n",
       "0                                              [540]   \n",
       "1  [44126, 15940, 839, 8978, 2934, 1113, 3914, 12...   \n",
       "2  [30874, 2113, 8656, 21, 523, 8, 116, 5727, 68,...   \n",
       "3  [946, 7323, 297, 2660, 36067, 53107, 2654, 507...   \n",
       "4  [582, 558, 28776, 5186, 9081, 2419, 2693, 2299...   \n",
       "\n",
       "                                         inter_topic  \\\n",
       "0  {21107: 1.7915097, 405: 1.6123838, 4436: 1.518...   \n",
       "1  {18016: 2.0650618, 2384: 1.2503042, 1142: 1.13...   \n",
       "2  {46: 1.330939, 2159: 1.1296458, 379: 1.1241927...   \n",
       "3  {15918: 1.9479566, 8106: 1.8578106, 4787: 1.58...   \n",
       "4  {65: 1.5992582, 867: 1.3179373, 93: 1.2095009,...   \n",
       "\n",
       "                                 follow_topic_vector  \\\n",
       "0  [6.125305, -1.4180568, -1.3143845, -2.9268239,...   \n",
       "1  [0.30575216599999994, -0.9980522930666669, 0.0...   \n",
       "2  [0.1508028030833333, 0.7434654864583335, -0.25...   \n",
       "3  [1.4605925141999998, -0.33966116570100013, 0.3...   \n",
       "4  [0.9643650885294115, 0.31516375361764704, 0.82...   \n",
       "\n",
       "                                  inter_topic_vector  \n",
       "0  [0.5255145018431924, 2.8507211193389996, 0.571...  \n",
       "1  [-1.9947685124736019, 1.3387408371544118, -0.3...  \n",
       "2  [-0.25824397617484, 0.6167275103940157, -0.075...  \n",
       "3  [1.4908855224214492, 1.4438666038597823, 1.179...  \n",
       "4  [1.5879302100003165, -1.1453530874701519, -0.7...  "
      ]
     },
     "execution_count": 108,
     "metadata": {},
     "output_type": "execute_result"
    }
   ],
   "source": [
    "user.head()"
   ]
  },
  {
   "cell_type": "code",
   "execution_count": 109,
   "metadata": {},
   "outputs": [
    {
     "data": {
      "text/plain": [
       "(1931654, 18)"
      ]
     },
     "execution_count": 109,
     "metadata": {},
     "output_type": "execute_result"
    }
   ],
   "source": [
    "user.shape"
   ]
  },
  {
   "cell_type": "code",
   "execution_count": null,
   "metadata": {},
   "outputs": [],
   "source": []
  },
  {
   "cell_type": "code",
   "execution_count": 110,
   "metadata": {},
   "outputs": [],
   "source": [
    "def listi(x,i):\n",
    "    return x[i]"
   ]
  },
  {
   "cell_type": "code",
   "execution_count": null,
   "metadata": {},
   "outputs": [],
   "source": [
    "for i in range(64):\n",
    "    col_name = 'topic_vector_{}'.format(str(i))\n",
    "    tqdm.pandas(desc=\"topic_interest2v...\")\n",
    "    user[col_name]=user['follow_topic_vector'].apply(lambda x:listi(x,i))"
   ]
  },
  {
   "cell_type": "code",
   "execution_count": null,
   "metadata": {},
   "outputs": [],
   "source": [
    "for i in range(64):\n",
    "    col_name = 'topic_interestvector_{}'.format(str(i))\n",
    "    tqdm.pandas(desc=\"topic_interest2v...\")\n",
    "    user[col_name]=user['inter_topic_vector'].apply(lambda x:listi(x,i))"
   ]
  },
  {
   "cell_type": "code",
   "execution_count": null,
   "metadata": {},
   "outputs": [],
   "source": [
    "user.head()"
   ]
  },
  {
   "cell_type": "code",
   "execution_count": null,
   "metadata": {},
   "outputs": [],
   "source": [
    "user.shape"
   ]
  },
  {
   "cell_type": "code",
   "execution_count": null,
   "metadata": {},
   "outputs": [],
   "source": [
    "with open('pkl/user_feat.pkl','wb') as file:\n",
    "    pickle.dump(user,file)"
   ]
  },
  {
   "cell_type": "code",
   "execution_count": null,
   "metadata": {},
   "outputs": [],
   "source": [
    "#######################################################添加"
   ]
  },
  {
   "cell_type": "code",
   "execution_count": null,
   "metadata": {},
   "outputs": [],
   "source": [
    "PATH = '/home/huangqiao/DataMiningCode/project-expert/data'"
   ]
  },
  {
   "cell_type": "code",
   "execution_count": null,
   "metadata": {},
   "outputs": [],
   "source": [
    "\n",
    "user = pd.read_csv(os.path.join(PATH, 'member_info_0926.txt'), \n",
    "                          names=['uid', 'gender', 'creat_keyword', 'level', 'hot', 'reg_type', 'reg_plat', 'freq', 'uf_b1', 'uf_b2',\n",
    "                'uf_b3', 'uf_b4', 'uf_b5', 'uf_c1', 'uf_c2', 'uf_c3', 'uf_c4', 'uf_c5', 'score', 'follow_topic',\n",
    "                'inter_topic'], sep='\\t')\n",
    "user.head()"
   ]
  },
  {
   "cell_type": "code",
   "execution_count": null,
   "metadata": {},
   "outputs": [],
   "source": [
    "def parse_list_1(d):\n",
    "    if d == '-1':\n",
    "        return [0]\n",
    "    return list(map(lambda x: int(x[1:]), str(d).split(',')))"
   ]
  },
  {
   "cell_type": "code",
   "execution_count": null,
   "metadata": {},
   "outputs": [],
   "source": [
    "user['creat_keyword'] = user['creat_keyword'].apply(parse_list_1)\n",
    "user.head()"
   ]
  },
  {
   "cell_type": "code",
   "execution_count": null,
   "metadata": {},
   "outputs": [],
   "source": [
    "with open('pkl/word.pkl', 'rb') as file:\n",
    "    word = pickle.load(file)\n",
    "word.shape"
   ]
  },
  {
   "cell_type": "code",
   "execution_count": null,
   "metadata": {},
   "outputs": [],
   "source": [
    "word_vector_dict = dict(zip(np.array(word['id']), np.array(word['embed'])))"
   ]
  },
  {
   "cell_type": "code",
   "execution_count": null,
   "metadata": {},
   "outputs": [],
   "source": [
    "def w2v(x):\n",
    "    try:\n",
    "        tmp = word_vector_dict[x[0]]\n",
    "    except:\n",
    "        tmp = np.zeros(64)\n",
    "    for i in x[1:]:\n",
    "        tmp = tmp + word_vector_dict[i]\n",
    "    if len(tmp) == 0:\n",
    "        return np.zeros(64)\n",
    "    return (tmp / len(x))"
   ]
  },
  {
   "cell_type": "code",
   "execution_count": null,
   "metadata": {},
   "outputs": [],
   "source": [
    "tqdm.pandas(desc=\"w2v...\")\n",
    "user['keyword_vector']=user['creat_keyword'].progress_apply(lambda x:w2v(x))"
   ]
  },
  {
   "cell_type": "code",
   "execution_count": null,
   "metadata": {},
   "outputs": [],
   "source": [
    "user.head()"
   ]
  },
  {
   "cell_type": "code",
   "execution_count": null,
   "metadata": {},
   "outputs": [],
   "source": [
    "def listi(x,i):\n",
    "    return x[i]"
   ]
  },
  {
   "cell_type": "code",
   "execution_count": null,
   "metadata": {},
   "outputs": [],
   "source": [
    "for i in range(64):\n",
    "    col_name = 'keyword_vector_{}'.format(str(i))\n",
    "    tqdm.pandas(desc=\"w2v...\")\n",
    "    user[col_name]=user['keyword_vector'].apply(lambda x:listi(x,i))"
   ]
  },
  {
   "cell_type": "code",
   "execution_count": null,
   "metadata": {},
   "outputs": [],
   "source": [
    "user.shape"
   ]
  },
  {
   "cell_type": "code",
   "execution_count": null,
   "metadata": {},
   "outputs": [],
   "source": [
    "columns=['uid']\n",
    "for i in range(64):\n",
    "    columns.append('keyword_vector_{}'.format(i))\n",
    "keyword_vector=user[columns]"
   ]
  },
  {
   "cell_type": "code",
   "execution_count": null,
   "metadata": {},
   "outputs": [],
   "source": [
    "keyword_vector.head()"
   ]
  },
  {
   "cell_type": "code",
   "execution_count": null,
   "metadata": {},
   "outputs": [],
   "source": [
    "with open('pkl/user_keyword_feat.pkl','wb') as file:\n",
    "    pickle.dump(keyword_vector,file)"
   ]
  },
  {
   "cell_type": "code",
   "execution_count": null,
   "metadata": {},
   "outputs": [],
   "source": []
  },
  {
   "cell_type": "code",
   "execution_count": null,
   "metadata": {},
   "outputs": [],
   "source": [
    "######################################################################################################################################\n",
    "###############################################question############################################################################"
   ]
  },
  {
   "cell_type": "code",
   "execution_count": null,
   "metadata": {},
   "outputs": [],
   "source": [
    "###################################################################加上topic的64维"
   ]
  },
  {
   "cell_type": "code",
   "execution_count": null,
   "metadata": {},
   "outputs": [],
   "source": [
    "with open('pkl/question_info.pkl', 'rb') as file:\n",
    "    ques = pickle.load(file)\n",
    "ques.shape"
   ]
  },
  {
   "cell_type": "code",
   "execution_count": null,
   "metadata": {},
   "outputs": [],
   "source": [
    "ques.head()"
   ]
  },
  {
   "cell_type": "code",
   "execution_count": null,
   "metadata": {},
   "outputs": [],
   "source": [
    "tqdm.pandas(desc=\"topic2v...\")\n",
    "ques['topic_vector']=ques['topic'].progress_apply(lambda x:topic2v(x))\n",
    "print('finished!')"
   ]
  },
  {
   "cell_type": "code",
   "execution_count": null,
   "metadata": {},
   "outputs": [],
   "source": [
    "def listi(x,i):\n",
    "    return x[i]"
   ]
  },
  {
   "cell_type": "code",
   "execution_count": null,
   "metadata": {},
   "outputs": [],
   "source": [
    "for i in range(64):\n",
    "    col_name = 'questopic_vector_{}'.format(str(i))\n",
    "    tqdm.pandas(desc=\"topic_interest2v...\")\n",
    "    ques[col_name]=ques['topic_vector'].apply(lambda x:listi(x,i))"
   ]
  },
  {
   "cell_type": "code",
   "execution_count": null,
   "metadata": {},
   "outputs": [],
   "source": [
    "ques.head()"
   ]
  },
  {
   "cell_type": "code",
   "execution_count": null,
   "metadata": {},
   "outputs": [],
   "source": [
    "ques.shape"
   ]
  },
  {
   "cell_type": "code",
   "execution_count": null,
   "metadata": {},
   "outputs": [],
   "source": [
    "with open('pkl/ques_feat.pkl','wb') as file:\n",
    "    pickle.dump(ques,file)"
   ]
  },
  {
   "cell_type": "code",
   "execution_count": null,
   "metadata": {},
   "outputs": [],
   "source": []
  },
  {
   "cell_type": "code",
   "execution_count": null,
   "metadata": {},
   "outputs": [],
   "source": [
    "##############################################加上title_word切词的64维  title_t2"
   ]
  },
  {
   "cell_type": "code",
   "execution_count": null,
   "metadata": {},
   "outputs": [],
   "source": [
    "with open('pkl/ques_feat.pkl', 'rb') as file:\n",
    "    ques = pickle.load(file)"
   ]
  },
  {
   "cell_type": "code",
   "execution_count": null,
   "metadata": {},
   "outputs": [],
   "source": [
    "ques.head()"
   ]
  },
  {
   "cell_type": "code",
   "execution_count": null,
   "metadata": {},
   "outputs": [],
   "source": [
    "ques.shape"
   ]
  },
  {
   "cell_type": "code",
   "execution_count": null,
   "metadata": {},
   "outputs": [],
   "source": [
    "with open('pkl/word.pkl', 'rb') as file:\n",
    "    word = pickle.load(file)\n",
    "word.shape"
   ]
  },
  {
   "cell_type": "code",
   "execution_count": null,
   "metadata": {},
   "outputs": [],
   "source": [
    "word_vector_dict = dict(zip(np.array(word['id']), np.array(word['embed'])))"
   ]
  },
  {
   "cell_type": "code",
   "execution_count": null,
   "metadata": {},
   "outputs": [],
   "source": [
    "def w2v(x):\n",
    "    try:\n",
    "        tmp = word_vector_dict[x[0]]\n",
    "    except:\n",
    "        tmp = np.zeros(64)\n",
    "    for i in x[1:]:\n",
    "        tmp = tmp + word_vector_dict[i]\n",
    "    if len(tmp) == 0:\n",
    "        return np.zeros(64)\n",
    "    return (tmp / len(x))"
   ]
  },
  {
   "cell_type": "code",
   "execution_count": null,
   "metadata": {},
   "outputs": [],
   "source": [
    "tqdm.pandas(desc=\"w2v...\")\n",
    "ques['title_w_vector']=ques['title_t2'].progress_apply(lambda x:w2v(x))"
   ]
  },
  {
   "cell_type": "code",
   "execution_count": null,
   "metadata": {},
   "outputs": [],
   "source": [
    "ques.head()"
   ]
  },
  {
   "cell_type": "code",
   "execution_count": null,
   "metadata": {},
   "outputs": [],
   "source": [
    "def parse_str(d):\n",
    "    return np.array(list(map(float, d.split())))"
   ]
  },
  {
   "cell_type": "code",
   "execution_count": null,
   "metadata": {},
   "outputs": [],
   "source": [
    "def listi(x,i):\n",
    "    return x[i]"
   ]
  },
  {
   "cell_type": "code",
   "execution_count": null,
   "metadata": {},
   "outputs": [],
   "source": [
    "from tqdm import tqdm, tqdm_notebook, _tqdm_notebook, tqdm_pandas\n",
    "for i in range(64):\n",
    "    col_name = 'title_w_vector_{}'.format(str(i))\n",
    "    tqdm.pandas(desc=\"topic_interest2v...\")\n",
    "    ques[col_name]=ques['title_w_vector'].apply(lambda x:listi(x,i))"
   ]
  },
  {
   "cell_type": "code",
   "execution_count": null,
   "metadata": {},
   "outputs": [],
   "source": [
    "ques.head()"
   ]
  },
  {
   "cell_type": "code",
   "execution_count": null,
   "metadata": {},
   "outputs": [],
   "source": [
    "###################################################################加上内容切词  desc_t2的64维"
   ]
  },
  {
   "cell_type": "code",
   "execution_count": null,
   "metadata": {},
   "outputs": [],
   "source": [
    "tqdm.pandas(desc=\"w2v...\")\n",
    "ques['desc_w_vector']=ques['desc_t2'].progress_apply(lambda x:w2v(x))"
   ]
  },
  {
   "cell_type": "code",
   "execution_count": null,
   "metadata": {},
   "outputs": [],
   "source": [
    "for i in range(64):\n",
    "    col_name = 'desc_w_vector_{}'.format(str(i))\n",
    "    tqdm.pandas(desc=\"topic_interest2v...\")\n",
    "    ques[col_name]=ques['desc_w_vector'].apply(lambda x:listi(x,i))"
   ]
  },
  {
   "cell_type": "code",
   "execution_count": null,
   "metadata": {},
   "outputs": [],
   "source": [
    "ques.head()"
   ]
  },
  {
   "cell_type": "code",
   "execution_count": null,
   "metadata": {},
   "outputs": [],
   "source": [
    "with open('pkl/ques_feat.pkl','wb') as file:\n",
    "    pickle.dump(ques,file)"
   ]
  },
  {
   "cell_type": "code",
   "execution_count": null,
   "metadata": {},
   "outputs": [],
   "source": [
    "############################################################加上内容单字切词desc_t1的64维"
   ]
  },
  {
   "cell_type": "code",
   "execution_count": null,
   "metadata": {},
   "outputs": [],
   "source": [
    "with open('pkl/ques_feat.pkl', 'rb') as file:\n",
    "    ques = pickle.load(file)"
   ]
  },
  {
   "cell_type": "code",
   "execution_count": null,
   "metadata": {},
   "outputs": [],
   "source": [
    "ques.head()"
   ]
  },
  {
   "cell_type": "code",
   "execution_count": null,
   "metadata": {},
   "outputs": [],
   "source": [
    "with open('pkl/single_word.pkl', 'rb') as file:\n",
    "    single_word = pickle.load(file)\n",
    "single_word.shape"
   ]
  },
  {
   "cell_type": "code",
   "execution_count": null,
   "metadata": {},
   "outputs": [],
   "source": [
    "single_word_vector_dict = dict(zip(np.array(single_word['id']), np.array(single_word['embed'])))"
   ]
  },
  {
   "cell_type": "code",
   "execution_count": null,
   "metadata": {},
   "outputs": [],
   "source": [
    "def sw2v(x):\n",
    "    try:\n",
    "        tmp = single_word_vector_dict[x[0]]\n",
    "    except:\n",
    "        tmp = np.zeros(64)\n",
    "    for i in x[1:]:\n",
    "        tmp = tmp + single_word_vector_dict[i]\n",
    "    if len(tmp) == 0:\n",
    "        return np.zeros(64)\n",
    "    return (tmp / len(x))"
   ]
  },
  {
   "cell_type": "code",
   "execution_count": null,
   "metadata": {},
   "outputs": [],
   "source": [
    "tqdm.pandas(desc=\"sw2v...\")\n",
    "ques['desc_sw_vector']=ques['desc_t1'].progress_apply(lambda x:sw2v(x))"
   ]
  },
  {
   "cell_type": "code",
   "execution_count": null,
   "metadata": {},
   "outputs": [],
   "source": [
    "ques.head()"
   ]
  },
  {
   "cell_type": "code",
   "execution_count": null,
   "metadata": {},
   "outputs": [],
   "source": [
    "def parse_str(d):\n",
    "    return np.array(list(map(float, d.split())))"
   ]
  },
  {
   "cell_type": "code",
   "execution_count": null,
   "metadata": {},
   "outputs": [],
   "source": [
    "def listi(x,i):\n",
    "    return x[i]"
   ]
  },
  {
   "cell_type": "code",
   "execution_count": null,
   "metadata": {},
   "outputs": [],
   "source": [
    "from tqdm import tqdm, tqdm_notebook, _tqdm_notebook, tqdm_pandas\n",
    "for i in range(64):\n",
    "    col_name = 'desc_sw_vector_{}'.format(str(i))\n",
    "    tqdm.pandas(desc=\"sw2v...\")\n",
    "    ques[col_name]=ques['desc_sw_vector'].apply(lambda x:listi(x,i))"
   ]
  },
  {
   "cell_type": "code",
   "execution_count": null,
   "metadata": {},
   "outputs": [],
   "source": [
    "ques.shape"
   ]
  },
  {
   "cell_type": "code",
   "execution_count": null,
   "metadata": {},
   "outputs": [],
   "source": [
    "############################################################加上内容单字切词desc_t1的64维"
   ]
  },
  {
   "cell_type": "code",
   "execution_count": null,
   "metadata": {},
   "outputs": [],
   "source": [
    "tqdm.pandas(desc=\"sw2v...\")\n",
    "ques['title_sw_vector']=ques['title_t1'].progress_apply(lambda x:sw2v(x))"
   ]
  },
  {
   "cell_type": "code",
   "execution_count": null,
   "metadata": {},
   "outputs": [],
   "source": [
    "for i in range(64):\n",
    "    col_name = 'title_sw_vector_{}'.format(str(i))\n",
    "    tqdm.pandas(desc=\"sw2v...\")\n",
    "    ques[col_name]=ques['title_sw_vector'].apply(lambda x:listi(x,i))"
   ]
  },
  {
   "cell_type": "code",
   "execution_count": null,
   "metadata": {},
   "outputs": [],
   "source": [
    "ques.shape"
   ]
  },
  {
   "cell_type": "code",
   "execution_count": null,
   "metadata": {},
   "outputs": [],
   "source": [
    "with open('pkl/ques_feat.pkl','wb') as file:\n",
    "    pickle.dump(ques,file)"
   ]
  },
  {
   "cell_type": "code",
   "execution_count": null,
   "metadata": {},
   "outputs": [],
   "source": []
  },
  {
   "cell_type": "code",
   "execution_count": null,
   "metadata": {},
   "outputs": [],
   "source": [
    "######################################################################################################################################\n",
    "###############################################user_question_similary############################################################################"
   ]
  },
  {
   "cell_type": "code",
   "execution_count": null,
   "metadata": {},
   "outputs": [],
   "source": [
    "with open('pkl/ques_feat.pkl', 'rb') as file:\n",
    "    ques = pickle.load(file)\n",
    "ques.shape\n",
    "\n"
   ]
  },
  {
   "cell_type": "code",
   "execution_count": null,
   "metadata": {},
   "outputs": [],
   "source": [
    "columns=['qid']\n",
    "\n",
    "columns.append('topic_vector')\n",
    "ques_topic=ques[columns]\n",
    "ques_topic.head()"
   ]
  },
  {
   "cell_type": "code",
   "execution_count": null,
   "metadata": {},
   "outputs": [],
   "source": [
    "with open('pkl/user_feat.pkl', 'rb') as file:\n",
    "    user = pickle.load(file)\n",
    "user.shape"
   ]
  },
  {
   "cell_type": "code",
   "execution_count": null,
   "metadata": {},
   "outputs": [],
   "source": [
    "columns=['uid']\n",
    "\n",
    "columns.append('inter_topic_vector')\n",
    "user_topic=user[columns]\n",
    "user_topic.head()"
   ]
  },
  {
   "cell_type": "code",
   "execution_count": null,
   "metadata": {},
   "outputs": [],
   "source": [
    "uqid_sim=pd.merge(ques_topic,user_topic,on='qid')\n",
    "uqid_sim.head(100)"
   ]
  },
  {
   "cell_type": "code",
   "execution_count": null,
   "metadata": {},
   "outputs": [],
   "source": []
  },
  {
   "cell_type": "code",
   "execution_count": null,
   "metadata": {},
   "outputs": [],
   "source": [
    "#################################################################################################################################\n",
    "#################################################merge(ans,ques)的topic#####################################################################"
   ]
  },
  {
   "cell_type": "code",
   "execution_count": null,
   "metadata": {},
   "outputs": [],
   "source": [
    "# 加载问题\n",
    "with open('pkl/question_info.pkl', 'rb') as file:\n",
    "    ques = pickle.load(file)\n",
    "    \n",
    "columns=['qid']\n",
    "columns.append('topic')\n",
    "ques_topic=ques[columns]\n",
    "ques_topic.head()"
   ]
  },
  {
   "cell_type": "code",
   "execution_count": null,
   "metadata": {},
   "outputs": [],
   "source": [
    "# 加载回答\n",
    "with open('pkl/answer_info.pkl', 'rb') as file:\n",
    "    ans = pickle.load(file)\n",
    "    \n",
    "columns=['qid']\n",
    "columns.append('uid')\n",
    "ans_topic=ans[columns]\n",
    "ans_topic.head()"
   ]
  },
  {
   "cell_type": "code",
   "execution_count": null,
   "metadata": {},
   "outputs": [],
   "source": [
    "#将回答和问题信息按照qid进行合并\n",
    "ans_topic_vector = pd.merge(ans_topic,ques_topic, on='qid')\n",
    "del ques\n",
    "\n",
    "#ans对于文本信息只留了topic"
   ]
  },
  {
   "cell_type": "code",
   "execution_count": null,
   "metadata": {},
   "outputs": [],
   "source": [
    "ans_topic_vector.head()"
   ]
  },
  {
   "cell_type": "code",
   "execution_count": null,
   "metadata": {},
   "outputs": [],
   "source": [
    "print(ans_topic_vector.shape)"
   ]
  },
  {
   "cell_type": "code",
   "execution_count": null,
   "metadata": {},
   "outputs": [],
   "source": []
  },
  {
   "cell_type": "code",
   "execution_count": null,
   "metadata": {},
   "outputs": [],
   "source": [
    "def parse_str(d):\n",
    "    return np.array(list(map(float, d.split())))"
   ]
  },
  {
   "cell_type": "code",
   "execution_count": null,
   "metadata": {},
   "outputs": [],
   "source": [
    "with open('pkl/topic.pkl', 'rb') as file:\n",
    "    topicmap = pickle.load(file)\n",
    "topicmap.shape"
   ]
  },
  {
   "cell_type": "code",
   "execution_count": null,
   "metadata": {},
   "outputs": [],
   "source": [
    "topic_vector_dict = dict(zip(np.array(topicmap['id']), np.array(topicmap['embed'])))\n",
    "\n",
    "type(topic_vector_dict.keys())"
   ]
  },
  {
   "cell_type": "code",
   "execution_count": null,
   "metadata": {},
   "outputs": [],
   "source": [
    "#求话题向量平均值\n",
    "def topic2v(x):\n",
    "    try:\n",
    "        tmp = topic_vector_dict[x[0]]\n",
    "    except:\n",
    "        tmp = np.zeros(64)\n",
    "    for i in x[1:]:\n",
    "        tmp = tmp + topic_vector_dict[i]\n",
    "    if len(tmp) == 0:\n",
    "        return np.zeros(64)\n",
    "    return (tmp / len(x))"
   ]
  },
  {
   "cell_type": "code",
   "execution_count": null,
   "metadata": {},
   "outputs": [],
   "source": [
    "tqdm.pandas(desc=\"topic2v...\")\n",
    "ans_topic_vector['topic_vector']=ans_topic_vector['topic'].progress_apply(lambda x:topic2v(x))\n",
    "print('finished!')"
   ]
  },
  {
   "cell_type": "code",
   "execution_count": null,
   "metadata": {},
   "outputs": [],
   "source": [
    "ans_topic_vector.head()"
   ]
  },
  {
   "cell_type": "code",
   "execution_count": null,
   "metadata": {},
   "outputs": [],
   "source": [
    "with open('pkl/user_feat.pkl', 'rb') as file:\n",
    "    user = pickle.load(file)\n",
    "user.shape"
   ]
  },
  {
   "cell_type": "code",
   "execution_count": null,
   "metadata": {},
   "outputs": [],
   "source": [
    "columns=['uid']\n",
    "\n",
    "columns.append('inter_topic_vector')\n",
    "user_topic=user[columns]\n",
    "user_topic.head()"
   ]
  },
  {
   "cell_type": "code",
   "execution_count": null,
   "metadata": {},
   "outputs": [],
   "source": [
    "answer_q_topic_vector = pd.merge(user_topic,ans_topic_vector, on='uid')"
   ]
  },
  {
   "cell_type": "code",
   "execution_count": null,
   "metadata": {},
   "outputs": [],
   "source": [
    "answer_q_topic_vector.head()"
   ]
  },
  {
   "cell_type": "code",
   "execution_count": null,
   "metadata": {},
   "outputs": [],
   "source": [
    "for i in range(64):\n",
    "    col_name = 'answer_q_topic_vector_{}'.format(str(i))\n",
    "    tqdm.pandas(desc=\"topic_interest2v...\")\n",
    "    ans_topic_vector[col_name]=ans_topic_vector['topic_vector'].apply(lambda x:listi(x,i))"
   ]
  },
  {
   "cell_type": "code",
   "execution_count": null,
   "metadata": {},
   "outputs": [],
   "source": []
  }
 ],
 "metadata": {
  "kernelspec": {
   "display_name": "Python 3",
   "language": "python",
   "name": "python3"
  },
  "language_info": {
   "codemirror_mode": {
    "name": "ipython",
    "version": 3
   },
   "file_extension": ".py",
   "mimetype": "text/x-python",
   "name": "python",
   "nbconvert_exporter": "python",
   "pygments_lexer": "ipython3",
   "version": "3.6.0"
  }
 },
 "nbformat": 4,
 "nbformat_minor": 2
}
